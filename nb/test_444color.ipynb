{
 "cells": [
  {
   "cell_type": "markdown",
   "metadata": {},
   "source": [
    "# qecsim demos"
   ]
  },
  {
   "cell_type": "markdown",
   "metadata": {},
   "source": [
    "## Simulating error correction with a color 6.6.6 stabilizer code\n",
    "This demo shows verbosely how to simulate one error correction run. \n",
    "\n",
    "| For normal use, the code in this demo is encapsulated in the function:\n",
    "| `qecsim.app.run_once(code, error_model, decoder, error_probability)`,\n",
    "| and the simulation of many error correction runs is encapsulated in the function:\n",
    "| `qecsim.app.run(code, error_model, decoder, error_probability, max_runs, max_failures)`.\n",
    "\n",
    "Notes:\n",
    "\n",
    "* Operators can be visualised in binary symplectic form (bsf) or Pauli form, e.g. `[1 1 0|0 1 0] = XYI`.\n",
    "* The binary symplectic product is denoted by $\\odot$ and defined as $A \\odot B \\equiv A \\Lambda B \\bmod 2$ where $\\Lambda = \\left[\\begin{matrix} 0 & I \\\\ I & 0 \\end{matrix}\\right]$.\n",
    "* Binary addition is denoted by $\\oplus$ and defined as addition modulo 2, or equivalently exclusive-or."
   ]
  },
  {
   "cell_type": "markdown",
   "metadata": {},
   "source": [
    "### Initialise the models"
   ]
  },
  {
   "cell_type": "code",
   "execution_count": 11,
   "metadata": {},
   "outputs": [
    {
     "name": "stdout",
     "output_type": "stream",
     "text": [
      "Color666Code(5)\n",
      "DepolarizingErrorModel()\n",
      "Color666MPSDecoder(None, None)\n"
     ]
    }
   ],
   "source": [
    "%run qsu.ipynb  # color-printing functions\n",
    "import numpy as np\n",
    "from qecsim import paulitools as pt\n",
    "from qecsim.models.generic import DepolarizingErrorModel, BitFlipErrorModel\n",
    "from qecsim.models.color import Color444Code, Color444MPSDecoder, Color666Code, Color666MPSDecoder\n",
    "\n",
    "# initialise models\n",
    "# my_code = Color444Code(5)\n",
    "my_code = Color666Code(5)\n",
    "my_error_model = DepolarizingErrorModel()\n",
    "# my_error_model = DepolarizingErrorModel()\n",
    "# my_decoder = Color444MPSDecoder()\n",
    "my_decoder = Color666MPSDecoder()\n",
    "# print models\n",
    "print(my_code)\n",
    "print(my_error_model)\n",
    "print(my_decoder)"
   ]
  },
  {
   "cell_type": "markdown",
   "metadata": {},
   "source": [
    "### Generate a random error"
   ]
  },
  {
   "cell_type": "code",
   "execution_count": 12,
   "metadata": {},
   "outputs": [
    {
     "data": {
      "text/html": [
       "<div class=\"highlight\"><pre style=\"line-height:1!important;\">error:\n",
       "·\n",
       "|  \n",
       "·  \n",
       " \\   \n",
       "  ·-·\n",
       "  |  \\ \n",
       "·-·   ·\n",
       "|  \\  |  \n",
       "·   ·-·  \n",
       " \\  |  \\   \n",
       "  ·-·   ·-·\n",
       "  |  \\  |  \\ \n",
       "·-<span style=\"color:magenta; font-weight:bold\">Y</span>   ·-·   ·</pre></div>"
      ],
      "text/plain": [
       "<IPython.core.display.HTML object>"
      ]
     },
     "metadata": {},
     "output_type": "display_data"
    }
   ],
   "source": [
    "# set physical error probability to 10%\n",
    "error_probability = 0.1\n",
    "# seed random number generator for repeatability\n",
    "rng = np.random.default_rng(3)\n",
    "\n",
    "# error: random error based on error probability\n",
    "error = my_error_model.generate(my_code, error_probability, rng)\n",
    "qsu.print_pauli('error:\\n{}'.format(my_code.new_pauli(error)))"
   ]
  },
  {
   "cell_type": "markdown",
   "metadata": {},
   "source": [
    "### Evaluate the syndrome\n",
    "The syndrome is a binary array indicating the stabilizers with which the error does not commute. It is calculated as $syndrome = error \\odot stabilisers^T$."
   ]
  },
  {
   "cell_type": "code",
   "execution_count": 13,
   "metadata": {},
   "outputs": [
    {
     "data": {
      "text/html": [
       "<div class=\"highlight\"><pre style=\"line-height:1!important;\">syndrome:\n",
       "·\n",
       "|  \n",
       "·  \n",
       " \\   \n",
       "  ·-·\n",
       "  |  \\ \n",
       "·-·   ·\n",
       "|  \\  |  \n",
       "·   ·-·  \n",
       " \\  |  \\   \n",
       "<span style=\"color:magenta; font-weight:bold\">Y</span> ·-·   ·-·\n",
       "  |  \\  |  \\ \n",
       "·-· <span style=\"color:magenta; font-weight:bold\">Y</span> ·-·   ·</pre></div>"
      ],
      "text/plain": [
       "<IPython.core.display.HTML object>"
      ]
     },
     "metadata": {},
     "output_type": "display_data"
    }
   ],
   "source": [
    "# syndrome: stabilizers that do not commute with the error\n",
    "syndrome = pt.bsp(error, my_code.stabilizers.T)\n",
    "qsu.print_pauli('syndrome:\\n{}'.format(my_code.ascii_art(syndrome)))"
   ]
  },
  {
   "cell_type": "markdown",
   "metadata": {},
   "source": [
    "### Find a recovery operation\n",
    "In this case, the recovery operation is found by contracting a tensor network defined to have the value of the coset :\n",
    "\n",
    "* Create a sample recovery operation by applying strings of Paulis between syndrome plaquettes and appropriate boundaries.\n",
    "* Define tensor networks corresponding to the probability of each left coset of the generator group with the sample recovery and logical Pauli operations.\n",
    "* Contract each tensor network (approximately) to evaluate the coset probabilities.\n",
    "* Return any recovery from the most probable coset."
   ]
  },
  {
   "cell_type": "code",
   "execution_count": 14,
   "metadata": {},
   "outputs": [
    {
     "data": {
      "text/html": [
       "<div class=\"highlight\"><pre style=\"line-height:1!important;\">recovery:\n",
       "<span style=\"color:magenta; font-weight:bold\">Y</span>\n",
       "|  \n",
       "<span style=\"color:magenta; font-weight:bold\">Y</span>  \n",
       " \\   \n",
       "  ·-·\n",
       "  |  \\ \n",
       "<span style=\"color:magenta; font-weight:bold\">Y</span>-·   ·\n",
       "|  \\  |  \n",
       "<span style=\"color:magenta; font-weight:bold\">Y</span>   ·-·  \n",
       " \\  |  \\   \n",
       "  <span style=\"color:magenta; font-weight:bold\">Y</span>-<span style=\"color:magenta; font-weight:bold\">Y</span>   <span style=\"color:magenta; font-weight:bold\">Y</span>-<span style=\"color:magenta; font-weight:bold\">Y</span>\n",
       "  |  \\  |  \\ \n",
       "·-<span style=\"color:magenta; font-weight:bold\">Y</span>   ·-·   ·</pre></div>"
      ],
      "text/plain": [
       "<IPython.core.display.HTML object>"
      ]
     },
     "metadata": {},
     "output_type": "display_data"
    }
   ],
   "source": [
    "# recovery: best match recovery operation based on decoder\n",
    "recovery = my_decoder.decode(my_code, syndrome)\n",
    "qsu.print_pauli('recovery:\\n{}'.format(my_code.new_pauli(recovery)))"
   ]
  },
  {
   "cell_type": "code",
   "execution_count": 15,
   "metadata": {},
   "outputs": [
    {
     "data": {
      "text/html": [
       "<div class=\"highlight\"><pre style=\"line-height:1!important;\">recovery:\n",
       "·\n",
       "|  \n",
       "·  \n",
       " \\   \n",
       "  ·-·\n",
       "  |  \\ \n",
       "·-·   ·\n",
       "|  \\  |  \n",
       "·   ·-·  \n",
       " \\  |  \\   \n",
       "  <span style=\"color:magenta; font-weight:bold\">Y</span>-<span style=\"color:magenta; font-weight:bold\">Y</span>   <span style=\"color:magenta; font-weight:bold\">Y</span>-<span style=\"color:magenta; font-weight:bold\">Y</span>\n",
       "  |  \\  |  \\ \n",
       "<span style=\"color:magenta; font-weight:bold\">Y</span>-<span style=\"color:magenta; font-weight:bold\">Y</span>   ·-·   ·</pre></div>"
      ],
      "text/plain": [
       "<IPython.core.display.HTML object>"
      ]
     },
     "metadata": {},
     "output_type": "display_data"
    }
   ],
   "source": [
    "qsu.print_pauli('recovery:\\n{}'.format(my_code.new_pauli(my_decoder.sample_recovery(my_code, syndrome).to_bsf())))"
   ]
  },
  {
   "cell_type": "code",
   "execution_count": 16,
   "metadata": {},
   "outputs": [
    {
     "data": {
      "text/html": [
       "<div class=\"highlight\"><pre style=\"line-height:1!important;\">recovery:\n",
       "<span style=\"color:red; font-weight:bold\">X</span>\n",
       "|  \n",
       "<span style=\"color:red; font-weight:bold\">X</span>  \n",
       " \\   \n",
       "  ·-·\n",
       "  |  \\ \n",
       "<span style=\"color:red; font-weight:bold\">X</span>-·   ·\n",
       "|  \\  |  \n",
       "<span style=\"color:red; font-weight:bold\">X</span>   ·-·  \n",
       " \\  |  \\   \n",
       "  <span style=\"color:magenta; font-weight:bold\">Y</span>-<span style=\"color:magenta; font-weight:bold\">Y</span>   <span style=\"color:magenta; font-weight:bold\">Y</span>-<span style=\"color:magenta; font-weight:bold\">Y</span>\n",
       "  |  \\  |  \\ \n",
       "<span style=\"color:blue; font-weight:bold\">Z</span>-<span style=\"color:magenta; font-weight:bold\">Y</span>   ·-·   ·</pre></div>"
      ],
      "text/plain": [
       "<IPython.core.display.HTML object>"
      ]
     },
     "metadata": {},
     "output_type": "display_data"
    }
   ],
   "source": [
    "qsu.print_pauli('recovery:\\n{}'.format(my_code.new_pauli(my_decoder.sample_recovery(my_code, syndrome).logical_x().to_bsf())))"
   ]
  },
  {
   "cell_type": "code",
   "execution_count": 17,
   "metadata": {},
   "outputs": [
    {
     "data": {
      "text/html": [
       "<div class=\"highlight\"><pre style=\"line-height:1!important;\">recovery:\n",
       "<span style=\"color:magenta; font-weight:bold\">Y</span>\n",
       "|  \n",
       "<span style=\"color:magenta; font-weight:bold\">Y</span>  \n",
       " \\   \n",
       "  ·-·\n",
       "  |  \\ \n",
       "<span style=\"color:magenta; font-weight:bold\">Y</span>-·   ·\n",
       "|  \\  |  \n",
       "<span style=\"color:magenta; font-weight:bold\">Y</span>   ·-·  \n",
       " \\  |  \\   \n",
       "  <span style=\"color:magenta; font-weight:bold\">Y</span>-<span style=\"color:magenta; font-weight:bold\">Y</span>   <span style=\"color:magenta; font-weight:bold\">Y</span>-<span style=\"color:magenta; font-weight:bold\">Y</span>\n",
       "  |  \\  |  \\ \n",
       "·-<span style=\"color:magenta; font-weight:bold\">Y</span>   ·-·   ·</pre></div>"
      ],
      "text/plain": [
       "<IPython.core.display.HTML object>"
      ]
     },
     "metadata": {},
     "output_type": "display_data"
    }
   ],
   "source": [
    "qsu.print_pauli('recovery:\\n{}'.format(my_code.new_pauli(my_decoder.sample_recovery(my_code, syndrome).logical_x().logical_z().to_bsf())))"
   ]
  },
  {
   "cell_type": "code",
   "execution_count": 18,
   "metadata": {},
   "outputs": [
    {
     "data": {
      "text/html": [
       "<div class=\"highlight\"><pre style=\"line-height:1!important;\">recovery:\n",
       "<span style=\"color:blue; font-weight:bold\">Z</span>\n",
       "|  \n",
       "<span style=\"color:blue; font-weight:bold\">Z</span>  \n",
       " \\   \n",
       "  ·-·\n",
       "  |  \\ \n",
       "<span style=\"color:blue; font-weight:bold\">Z</span>-·   ·\n",
       "|  \\  |  \n",
       "<span style=\"color:blue; font-weight:bold\">Z</span>   ·-·  \n",
       " \\  |  \\   \n",
       "  <span style=\"color:magenta; font-weight:bold\">Y</span>-<span style=\"color:magenta; font-weight:bold\">Y</span>   <span style=\"color:magenta; font-weight:bold\">Y</span>-<span style=\"color:magenta; font-weight:bold\">Y</span>\n",
       "  |  \\  |  \\ \n",
       "<span style=\"color:red; font-weight:bold\">X</span>-<span style=\"color:magenta; font-weight:bold\">Y</span>   ·-·   ·</pre></div>"
      ],
      "text/plain": [
       "<IPython.core.display.HTML object>"
      ]
     },
     "metadata": {},
     "output_type": "display_data"
    }
   ],
   "source": [
    "qsu.print_pauli('recovery:\\n{}'.format(my_code.new_pauli(my_decoder.sample_recovery(my_code, syndrome).logical_z().to_bsf())))"
   ]
  },
  {
   "cell_type": "code",
   "execution_count": 19,
   "metadata": {},
   "outputs": [
    {
     "data": {
      "text/plain": [
       "((mpf('2.5710288024363407e-6'),\n",
       "  mpf('1.1152710075718396e-7'),\n",
       "  mpf('0.0050182199337082496'),\n",
       "  mpf('1.1152710075718386e-7')),\n",
       " (Color666Pauli(Color666Code(5), array([0, 0, 0, 0, 0, 0, 0, 0, 0, 0, 1, 1, 1, 1, 1, 1, 0, 0, 0, 0, 0, 0,\n",
       "         0, 0, 0, 0, 0, 0, 0, 1, 1, 1, 1, 1, 1, 0, 0, 0])),\n",
       "  Color666Pauli(Color666Code(5), array([1, 1, 0, 0, 1, 0, 0, 1, 0, 0, 1, 1, 1, 1, 0, 1, 0, 0, 0, 0, 0, 0,\n",
       "         0, 0, 0, 0, 0, 0, 0, 1, 1, 1, 1, 1, 1, 0, 0, 0])),\n",
       "  Color666Pauli(Color666Code(5), array([1, 1, 0, 0, 1, 0, 0, 1, 0, 0, 1, 1, 1, 1, 0, 1, 0, 0, 0, 1, 1, 0,\n",
       "         0, 1, 0, 0, 1, 0, 0, 1, 1, 1, 1, 0, 1, 0, 0, 0])),\n",
       "  Color666Pauli(Color666Code(5), array([0, 0, 0, 0, 0, 0, 0, 0, 0, 0, 1, 1, 1, 1, 1, 1, 0, 0, 0, 1, 1, 0,\n",
       "         0, 1, 0, 0, 1, 0, 0, 1, 1, 1, 1, 0, 1, 0, 0, 0]))))"
      ]
     },
     "execution_count": 19,
     "metadata": {},
     "output_type": "execute_result"
    }
   ],
   "source": [
    "my_decoder._coset_probabilities(my_error_model.probability_distribution(error_probability), my_decoder.sample_recovery(my_code, syndrome))"
   ]
  },
  {
   "cell_type": "markdown",
   "metadata": {},
   "source": [
    "As a sanity check, we expect $recovery \\oplus error$ to commute with all stabilizers, i.e. $(recovery \\oplus error) \\odot stabilisers^T = 0$."
   ]
  },
  {
   "cell_type": "code",
   "execution_count": 20,
   "metadata": {},
   "outputs": [
    {
     "name": "stdout",
     "output_type": "stream",
     "text": [
      "[0 0 0 0 0 0 0 0 0 0 0 0 0 0 0 0 0 0]\n"
     ]
    }
   ],
   "source": [
    "# check recovery ^ error commutes with stabilizers (by construction)\n",
    "print(pt.bsp(recovery ^ error, my_code.stabilizers.T))"
   ]
  },
  {
   "cell_type": "markdown",
   "metadata": {},
   "source": [
    "### Visualise $recovery \\oplus error$\n",
    "Just out of curiosity, we can see what $recovery \\oplus error$ looks like. If successful, it should be a product of stabilizer plaquette operators."
   ]
  },
  {
   "cell_type": "code",
   "execution_count": 21,
   "metadata": {},
   "outputs": [
    {
     "data": {
      "text/html": [
       "<div class=\"highlight\"><pre style=\"line-height:1!important;\">recovery ^ error:\n",
       "<span style=\"color:magenta; font-weight:bold\">Y</span>\n",
       "|  \n",
       "<span style=\"color:magenta; font-weight:bold\">Y</span>  \n",
       " \\   \n",
       "  ·-·\n",
       "  |  \\ \n",
       "<span style=\"color:magenta; font-weight:bold\">Y</span>-·   ·\n",
       "|  \\  |  \n",
       "<span style=\"color:magenta; font-weight:bold\">Y</span>   ·-·  \n",
       " \\  |  \\   \n",
       "  <span style=\"color:magenta; font-weight:bold\">Y</span>-<span style=\"color:magenta; font-weight:bold\">Y</span>   <span style=\"color:magenta; font-weight:bold\">Y</span>-<span style=\"color:magenta; font-weight:bold\">Y</span>\n",
       "  |  \\  |  \\ \n",
       "·-·   ·-·   ·</pre></div>"
      ],
      "text/plain": [
       "<IPython.core.display.HTML object>"
      ]
     },
     "metadata": {},
     "output_type": "display_data"
    }
   ],
   "source": [
    "# print recovery ^ error (out of curiosity)\n",
    "qsu.print_pauli('recovery ^ error:\\n{}'.format(my_code.new_pauli(recovery ^ error)))"
   ]
  },
  {
   "cell_type": "markdown",
   "metadata": {},
   "source": [
    "### Test if the recovery operation is successful\n",
    "The recovery operation is successful iff $recovery \\oplus error$ commutes with all logical operators, i.e. $(recovery \\oplus error) \\odot logicals^T = 0.$"
   ]
  },
  {
   "cell_type": "code",
   "execution_count": 38,
   "metadata": {},
   "outputs": [
    {
     "name": "stdout",
     "output_type": "stream",
     "text": [
      "[1 0]\n"
     ]
    }
   ],
   "source": [
    "# success iff recovery ^ error commutes with logicals\n",
    "print(pt.bsp(recovery ^ error, my_code.logicals.T))"
   ]
  },
  {
   "cell_type": "markdown",
   "metadata": {},
   "source": [
    "Note: The decoder is not guaranteed to find a successful recovery operation. The color 6.6.6 5 code has distance $d = 5$ so we can only guarantee to correct errors up to weight $(d - 1)/2=2$."
   ]
  },
  {
   "cell_type": "markdown",
   "metadata": {},
   "source": [
    "### Equivalent code in single call\n",
    "The above demo is equivalent to the following code."
   ]
  },
  {
   "cell_type": "code",
   "execution_count": 9,
   "metadata": {},
   "outputs": [
    {
     "name": "stderr",
     "output_type": "stream",
     "text": [
      "NON-POSITIVE-FINITE MAX COSET PROBABILITY: {\"code\": \"Color666Code(5)\", \"coset_ps\": [\"mpf('0.0')\", \"mpf('0.0')\", \"mpf('0.0')\", \"mpf('0.0')\"], \"decoder\": \"Color666MPSDecoder(None, None)\", \"error\": [\"0010000000\", 38], \"error_model\": \"BitFlipErrorModel()\", \"error_probability\": 0.1, \"prob_dist\": [0.9, 0.1, 0, 0], \"syndrome\": [\"120980\", 18]}\n"
     ]
    },
    {
     "name": "stdout",
     "output_type": "stream",
     "text": [
      "{'error_weight': 1, 'success': False, 'logical_commutations': array([1, 1]), 'custom_values': None}\n"
     ]
    }
   ],
   "source": [
    "# repeat demo in single call\n",
    "from qecsim import app\n",
    "print(app.run_once(my_code, my_error_model, my_decoder, error_probability))"
   ]
  },
  {
   "cell_type": "code",
   "execution_count": null,
   "metadata": {},
   "outputs": [],
   "source": []
  }
 ],
 "metadata": {
  "anaconda-cloud": {},
  "kernelspec": {
   "display_name": "Python 3 (ipykernel)",
   "language": "python",
   "name": "python3"
  },
  "language_info": {
   "codemirror_mode": {
    "name": "ipython",
    "version": 3
   },
   "file_extension": ".py",
   "mimetype": "text/x-python",
   "name": "python",
   "nbconvert_exporter": "python",
   "pygments_lexer": "ipython3",
   "version": "3.8.10"
  }
 },
 "nbformat": 4,
 "nbformat_minor": 4
}
